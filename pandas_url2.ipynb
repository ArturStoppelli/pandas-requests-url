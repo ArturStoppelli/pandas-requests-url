{
 "cells": [
  {
   "cell_type": "code",
   "execution_count": null,
   "metadata": {},
   "outputs": [],
   "source": [
    "import pandas as pd\n",
    "import requests\n",
    "import io\n",
    "\n",
    "# Buscando e armazenando a informação da URL em uma variável\n",
    "url = 'https://portalweb.cooxupe.com.br:9080/portal/precohistoricocafe_2.jsp?d-3496238-e=2&6578706f7274=1'\n",
    "conteudo_url = requests.get(url).content\n",
    "# Tratando a URL para que possa ser lida pelo pandas\n",
    "arquivo = io.StringIO(conteudo_url.decode('latin1'))\n",
    "cafe_df = pd.read_csv(arquivo, sep=r'\\t', engine='python')\n",
    "display(cafe_df)\n"
   ]
  }
 ],
 "metadata": {
  "kernelspec": {
   "display_name": "Python 3",
   "language": "python",
   "name": "python3"
  },
  "language_info": {
   "codemirror_mode": {
    "name": "ipython",
    "version": 3
   },
   "file_extension": ".py",
   "mimetype": "text/x-python",
   "name": "python",
   "nbconvert_exporter": "python",
   "pygments_lexer": "ipython3",
   "version": "3.12.2"
  }
 },
 "nbformat": 4,
 "nbformat_minor": 2
}
